{
  "nbformat": 4,
  "nbformat_minor": 0,
  "metadata": {
    "colab": {
      "provenance": [],
      "authorship_tag": "ABX9TyMXx39fxTG37FeqeFG59hhf",
      "include_colab_link": true
    },
    "kernelspec": {
      "name": "python3",
      "display_name": "Python 3"
    },
    "language_info": {
      "name": "python"
    }
  },
  "cells": [
    {
      "cell_type": "markdown",
      "metadata": {
        "id": "view-in-github",
        "colab_type": "text"
      },
      "source": [
        "<a href=\"https://colab.research.google.com/github/adityajoshi020503/IIITH-ML-2024-25/blob/main/Linear_Algebra_Practice.ipynb\" target=\"_parent\"><img src=\"https://colab.research.google.com/assets/colab-badge.svg\" alt=\"Open In Colab\"/></a>"
      ]
    },
    {
      "cell_type": "markdown",
      "source": [
        "##Linear Algebra Practice"
      ],
      "metadata": {
        "id": "0s6G1m_RR3cD"
      }
    },
    {
      "cell_type": "code",
      "source": [
        "import numpy as np\n",
        "import matplotlib.pyplot as plt"
      ],
      "metadata": {
        "id": "ePLoBUneSGuE"
      },
      "execution_count": 1,
      "outputs": []
    },
    {
      "cell_type": "markdown",
      "source": [
        "###1. Vectors and Operations"
      ],
      "metadata": {
        "id": "ZJi7s7d9SWO0"
      }
    },
    {
      "cell_type": "code",
      "source": [
        "#Creating Vectors\n",
        "v1 = np.array([1,2,3])\n",
        "v2 = np.array([4,5,6])"
      ],
      "metadata": {
        "id": "VeIKo95bSZwG"
      },
      "execution_count": 4,
      "outputs": []
    },
    {
      "cell_type": "code",
      "source": [
        "#Vector Addition\n",
        "v_add = v1 + v2\n",
        "print(\"Vector Addition:\", v_add)\n",
        "\n",
        "#Vector Subtraction\n",
        "v_sub = v1 - v2\n",
        "print(\"Vector Subtraction:\", v_sub)\n",
        "\n",
        "#Scalar multiplication\n",
        "V_scalar = 2 * v1\n",
        "print(\"Vector Multiplication:\", V_scalar)\n",
        "\n",
        "#Dot Product\n",
        "dot_product = np.dot(v1, v2)\n",
        "print(\"Dot Product:\", dot_product)\n",
        "\n",
        "#Cross Product\n",
        "cross_product = np.cross(v1, v2)\n",
        "print(\"Cross Product:\", cross_product)"
      ],
      "metadata": {
        "colab": {
          "base_uri": "https://localhost:8080/"
        },
        "id": "NxkrHvWlWCUM",
        "outputId": "eaa1f179-a427-400f-ce81-206e4b97ed71"
      },
      "execution_count": 5,
      "outputs": [
        {
          "output_type": "stream",
          "name": "stdout",
          "text": [
            "Vector Addition: [5 7 9]\n",
            "Vector Subtraction: [-3 -3 -3]\n",
            "Vector Multiplication: [2 4 6]\n",
            "Dot Product: 32\n",
            "Cross Product: [-3  6 -3]\n"
          ]
        }
      ]
    },
    {
      "cell_type": "markdown",
      "source": [
        "###2. Matrix and Operations"
      ],
      "metadata": {
        "id": "-iMpiQ-TXBKU"
      }
    },
    {
      "cell_type": "code",
      "source": [
        "# Creating a 3x3 matrix\n",
        "A = np.array([[1, 2, 3],\n",
        "              [4, 5, 6],\n",
        "              [7, 8, 9]])\n",
        "B = np.array([[9, 8, 7],\n",
        "              [6, 5, 4],\n",
        "              [3, 2, 1]])\n",
        "\n",
        "print(\"Matrix A:\\n\", A)\n",
        "print(\"Matrix B:\\n\", B)\n"
      ],
      "metadata": {
        "colab": {
          "base_uri": "https://localhost:8080/"
        },
        "id": "HLJqHvV45lC9",
        "outputId": "1c9412a8-c3b4-4070-c040-224a5518bc3e"
      },
      "execution_count": 8,
      "outputs": [
        {
          "output_type": "stream",
          "name": "stdout",
          "text": [
            "Matrix A:\n",
            " [[1 2 3]\n",
            " [4 5 6]\n",
            " [7 8 9]]\n",
            "Matrix B:\n",
            " [[9 8 7]\n",
            " [6 5 4]\n",
            " [3 2 1]]\n"
          ]
        }
      ]
    },
    {
      "cell_type": "code",
      "source": [
        "# Matrix addition\n",
        "C_add = A + B\n",
        "print(\"A + B:\\n\", C_add)\n",
        "\n",
        "# Matrix subtraction\n",
        "C_sub = A - B\n",
        "print(\"A - B:\\n\", C_sub)\n",
        "\n",
        "# Matrix multiplication\n",
        "C_mul = np.dot(A, B)\n",
        "print(\"A*B:\\n\", C_mul)\n"
      ],
      "metadata": {
        "colab": {
          "base_uri": "https://localhost:8080/"
        },
        "id": "kY4kTSnlBsZs",
        "outputId": "dac84182-5fb2-4ca4-9169-c1d5db4cef67"
      },
      "execution_count": 11,
      "outputs": [
        {
          "output_type": "stream",
          "name": "stdout",
          "text": [
            "A + B:\n",
            " [[10 10 10]\n",
            " [10 10 10]\n",
            " [10 10 10]]\n",
            "A - B:\n",
            " [[-8 -6 -4]\n",
            " [-2  0  2]\n",
            " [ 4  6  8]]\n",
            "A*B:\n",
            " [[ 30  24  18]\n",
            " [ 84  69  54]\n",
            " [138 114  90]]\n"
          ]
        }
      ]
    },
    {
      "cell_type": "code",
      "source": [
        "# Transpose of matrix A\n",
        "A_transpose = np.transpose(A)\n",
        "print(\"Transpose of A:\\n\", A_transpose)\n"
      ],
      "metadata": {
        "colab": {
          "base_uri": "https://localhost:8080/"
        },
        "id": "g56o_T6-CW9H",
        "outputId": "bd2bb4dc-92e6-43e6-ffd8-95c0a2fc0dbc"
      },
      "execution_count": 12,
      "outputs": [
        {
          "output_type": "stream",
          "name": "stdout",
          "text": [
            "Transpose of A:\n",
            " [[1 4 7]\n",
            " [2 5 8]\n",
            " [3 6 9]]\n"
          ]
        }
      ]
    },
    {
      "cell_type": "code",
      "source": [
        "# Determinant of matrix A\n",
        "det_A = np.linalg.det(A)\n",
        "print(\"Determinant of A:\", det_A)"
      ],
      "metadata": {
        "colab": {
          "base_uri": "https://localhost:8080/"
        },
        "id": "TOLOE3NTCZnu",
        "outputId": "1eddd7c7-21ba-4aa9-94e8-738e043e1307"
      },
      "execution_count": 13,
      "outputs": [
        {
          "output_type": "stream",
          "name": "stdout",
          "text": [
            "Determinant of A: 0.0\n"
          ]
        }
      ]
    },
    {
      "cell_type": "code",
      "source": [
        "# Inverse of matrix A\n",
        "\n",
        "try:\n",
        "    inv_A = np.linalg.inv(A)\n",
        "    print(\"Inverse of A:\\n\", inv_A)\n",
        "except np.linalg.LinAlgError:\n",
        "    print(\"Matrix A is singular and does not have an inverse.\")\n"
      ],
      "metadata": {
        "colab": {
          "base_uri": "https://localhost:8080/"
        },
        "id": "Ikc_1U3ADFBn",
        "outputId": "4497284d-7d3d-4c85-a57a-76749ba1841e"
      },
      "execution_count": 15,
      "outputs": [
        {
          "output_type": "stream",
          "name": "stdout",
          "text": [
            "Matrix A is singular and does not have an inverse.\n"
          ]
        }
      ]
    },
    {
      "cell_type": "code",
      "source": [
        "# Eigenvalues and eigenvectors of matrix A\n",
        "eigenvalues, eigenvectors = np.linalg.eig(A)\n",
        "print(\"Eigenvalues of A:\", eigenvalues)\n",
        "print(\"Eigenvectors of A:\\n\", eigenvectors)"
      ],
      "metadata": {
        "colab": {
          "base_uri": "https://localhost:8080/"
        },
        "id": "zaH6vfPoDbeC",
        "outputId": "fdf9f0cf-fc37-4fc2-91ac-329b98cfce68"
      },
      "execution_count": 16,
      "outputs": [
        {
          "output_type": "stream",
          "name": "stdout",
          "text": [
            "Eigenvalues of A: [ 1.61168440e+01 -1.11684397e+00 -1.30367773e-15]\n",
            "Eigenvectors of A:\n",
            " [[-0.23197069 -0.78583024  0.40824829]\n",
            " [-0.52532209 -0.08675134 -0.81649658]\n",
            " [-0.8186735   0.61232756  0.40824829]]\n"
          ]
        }
      ]
    }
  ]
}